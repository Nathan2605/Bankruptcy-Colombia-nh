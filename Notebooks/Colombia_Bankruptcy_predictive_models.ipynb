{
 "cells": [
  {
   "cell_type": "markdown",
   "metadata": {
    "colab_type": "text",
    "id": "view-in-github"
   },
   "source": [
    "<a href=\"https://colab.research.google.com/github/Nathan2605/Bankruptcy-Colombia-nh/blob/main/Colombia_Bankruptcy_predictive_models.ipynb\" target=\"_parent\"><img src=\"https://colab.research.google.com/assets/colab-badge.svg\" alt=\"Open In Colab\"/></a>"
   ]
  },
  {
   "cell_type": "code",
   "execution_count": null,
   "metadata": {
    "collapsed": true,
    "id": "wraqcgt0DwLW"
   },
   "outputs": [],
   "source": [
    "!pip install tableone\n",
    "!pip install seaborn\n",
    "!pip install imbalanced-learn > null"
   ]
  },
  {
   "cell_type": "code",
   "execution_count": 2,
   "metadata": {
    "id": "A6tykqsHD5q8"
   },
   "outputs": [],
   "source": [
    "import pandas as pd\n",
    "import numpy as np\n",
    "from scipy import stats\n",
    "import matplotlib.pyplot as plt\n",
    "import seaborn as sns\n",
    "from sklearn import tree\n",
    "\n",
    "\n",
    "from sklearn.model_selection import RepeatedStratifiedKFold\n",
    "from sklearn.model_selection import GridSearchCV\n",
    "from sklearn.linear_model import LogisticRegression\n",
    "from sklearn.neighbors import KNeighborsClassifier\n",
    "from sklearn.tree import DecisionTreeClassifier\n",
    "from sklearn.ensemble import RandomForestClassifier\n",
    "from xgboost import XGBClassifier\n",
    "from sklearn.ensemble import AdaBoostClassifier\n",
    "\n",
    "\n",
    "from imblearn.under_sampling import RandomUnderSampler\n",
    "from sklearn.model_selection import train_test_split\n",
    "from sklearn.preprocessing import StandardScaler, MinMaxScaler\n",
    "from sklearn.model_selection import train_test_split, cross_val_score\n",
    "from tableone import TableOne, load_dataset\n",
    "from sklearn.metrics import classification_report, accuracy_score, precision_recall_fscore_support, confusion_matrix, precision_score, recall_score, roc_auc_score\n",
    "from sklearn.metrics import roc_curve, auc"
   ]
  },
  {
   "cell_type": "markdown",
   "metadata": {
    "id": "Rtrh5n8eEqsg"
   },
   "source": [
    "###data"
   ]
  },
  {
   "cell_type": "code",
   "execution_count": 3,
   "metadata": {
    "id": "tu4jxGNdEo-P"
   },
   "outputs": [],
   "source": [
    "df = pd.read_csv('train (2).csv')"
   ]
  },
  {
   "cell_type": "code",
   "execution_count": 4,
   "metadata": {
    "colab": {
     "base_uri": "https://localhost:8080/",
     "height": 198
    },
    "id": "8XStVOfJEU1-",
    "outputId": "6a569b4f-7c99-4c9b-81f8-e6bf9c962691"
   },
   "outputs": [
    {
     "data": {
      "application/vnd.google.colaboratory.intrinsic+json": {
       "summary": "{\n  \"name\": \"df\",\n  \"rows\": 14097,\n  \"fields\": [\n    {\n      \"column\": \"index\",\n      \"properties\": {\n        \"dtype\": \"number\",\n        \"std\": 5912,\n        \"min\": 1,\n        \"max\": 24950,\n        \"num_unique_values\": 14097,\n        \"samples\": [\n          13186,\n          9121,\n          18069\n        ],\n        \"semantic_type\": \"\",\n        \"description\": \"\"\n      }\n    },\n    {\n      \"column\": \"Ganancia bruta\",\n      \"properties\": {\n        \"dtype\": \"number\",\n        \"std\": 7399979.094409774,\n        \"min\": -153107438.66666666,\n        \"max\": 333886226.6666667,\n        \"num_unique_values\": 13317,\n        \"samples\": [\n          1114866.0,\n          1261210.0,\n          2127153.0\n        ],\n        \"semantic_type\": \"\",\n        \"description\": \"\"\n      }\n    },\n    {\n      \"column\": \"Ganancia (p\\u00e9rdida)\",\n      \"properties\": {\n        \"dtype\": \"number\",\n        \"std\": 3082754.2167168357,\n        \"min\": -167960992.66666666,\n        \"max\": 87127827.5,\n        \"num_unique_values\": 13983,\n        \"samples\": [\n          834301.0,\n          9165344.333333334,\n          565755.0\n        ],\n        \"semantic_type\": \"\",\n        \"description\": \"\"\n      }\n    },\n    {\n      \"column\": \"Ingresos de actividades ordinarias\",\n      \"properties\": {\n        \"dtype\": \"number\",\n        \"std\": 28033659.744595613,\n        \"min\": 0.0,\n        \"max\": 1328596795.6666667,\n        \"num_unique_values\": 13293,\n        \"samples\": [\n          13762.0,\n          2996202.0,\n          21175754.33333333\n        ],\n        \"semantic_type\": \"\",\n        \"description\": \"\"\n      }\n    },\n    {\n      \"column\": \"Costo de ventas\",\n      \"properties\": {\n        \"dtype\": \"number\",\n        \"std\": 25281548.51275084,\n        \"min\": 0.0,\n        \"max\": 1321996414.3333333,\n        \"num_unique_values\": 10615,\n        \"samples\": [\n          81504718.33333333,\n          1518265.0,\n          12819175.666666666\n        ],\n        \"semantic_type\": \"\",\n        \"description\": \"\"\n      }\n    },\n    {\n      \"column\": \"Patrimonio total\",\n      \"properties\": {\n        \"dtype\": \"number\",\n        \"std\": 20140863.27785086,\n        \"min\": -74802989.0,\n        \"max\": 668318572.3333334,\n        \"num_unique_values\": 14083,\n        \"samples\": [\n          10785595.0,\n          722956.3333333334,\n          2803100.0\n        ],\n        \"semantic_type\": \"\",\n        \"description\": \"\"\n      }\n    },\n    {\n      \"column\": \"Total pasivos\",\n      \"properties\": {\n        \"dtype\": \"number\",\n        \"std\": 16728127.756282462,\n        \"min\": 0.0,\n        \"max\": 441535736.3333333,\n        \"num_unique_values\": 14069,\n        \"samples\": [\n          1156226.0,\n          79469.5,\n          22865.0\n        ],\n        \"semantic_type\": \"\",\n        \"description\": \"\"\n      }\n    },\n    {\n      \"column\": \"Total de activos\",\n      \"properties\": {\n        \"dtype\": \"number\",\n        \"std\": 30542499.48451892,\n        \"min\": 1.0,\n        \"max\": 721564910.0,\n        \"num_unique_values\": 14081,\n        \"samples\": [\n          14638897.333333334,\n          6135922.0,\n          146189695.0\n        ],\n        \"semantic_type\": \"\",\n        \"description\": \"\"\n      }\n    },\n    {\n      \"column\": \"Ganancias acumuladas\",\n      \"properties\": {\n        \"dtype\": \"number\",\n        \"std\": 17266279.778538562,\n        \"min\": -199851114.66666663,\n        \"max\": 1421580517.5,\n        \"num_unique_values\": 14033,\n        \"samples\": [\n          989523.6666666666,\n          18744504.5,\n          16682.666666666668\n        ],\n        \"semantic_type\": \"\",\n        \"description\": \"\"\n      }\n    },\n    {\n      \"column\": \"Pasivos corrientes totales\",\n      \"properties\": {\n        \"dtype\": \"number\",\n        \"std\": 11106328.811850533,\n        \"min\": 0.0,\n        \"max\": 344178441.0,\n        \"num_unique_values\": 14013,\n        \"samples\": [\n          17028.0,\n          299974.5,\n          113878.0\n        ],\n        \"semantic_type\": \"\",\n        \"description\": \"\"\n      }\n    },\n    {\n      \"column\": \"Activos corrientes totales\",\n      \"properties\": {\n        \"dtype\": \"number\",\n        \"std\": 16669539.505018204,\n        \"min\": 0.0,\n        \"max\": 690848443.0,\n        \"num_unique_values\": 14063,\n        \"samples\": [\n          1394954.0,\n          1348850.6666666667,\n          5838112.0\n        ],\n        \"semantic_type\": \"\",\n        \"description\": \"\"\n      }\n    },\n    {\n      \"column\": \"Sector\",\n      \"properties\": {\n        \"dtype\": \"category\",\n        \"num_unique_values\": 20,\n        \"samples\": [\n          \"L\",\n          \"E\",\n          \"R\"\n        ],\n        \"semantic_type\": \"\",\n        \"description\": \"\"\n      }\n    },\n    {\n      \"column\": \"event\",\n      \"properties\": {\n        \"dtype\": \"number\",\n        \"std\": 0.13120852940825323,\n        \"min\": 0.0,\n        \"max\": 1.0,\n        \"num_unique_values\": 2,\n        \"samples\": [\n          1.0,\n          0.0\n        ],\n        \"semantic_type\": \"\",\n        \"description\": \"\"\n      }\n    }\n  ]\n}",
       "type": "dataframe",
       "variable_name": "df"
      },
      "text/html": [
       "\n",
       "  <div id=\"df-32598ff7-c437-492c-9a8c-42b785cf9c99\" class=\"colab-df-container\">\n",
       "    <div>\n",
       "<style scoped>\n",
       "    .dataframe tbody tr th:only-of-type {\n",
       "        vertical-align: middle;\n",
       "    }\n",
       "\n",
       "    .dataframe tbody tr th {\n",
       "        vertical-align: top;\n",
       "    }\n",
       "\n",
       "    .dataframe thead th {\n",
       "        text-align: right;\n",
       "    }\n",
       "</style>\n",
       "<table border=\"1\" class=\"dataframe\">\n",
       "  <thead>\n",
       "    <tr style=\"text-align: right;\">\n",
       "      <th></th>\n",
       "      <th>index</th>\n",
       "      <th>Ganancia bruta</th>\n",
       "      <th>Ganancia (pérdida)</th>\n",
       "      <th>Ingresos de actividades ordinarias</th>\n",
       "      <th>Costo de ventas</th>\n",
       "      <th>Patrimonio total</th>\n",
       "      <th>Total pasivos</th>\n",
       "      <th>Total de activos</th>\n",
       "      <th>Ganancias acumuladas</th>\n",
       "      <th>Pasivos corrientes totales</th>\n",
       "      <th>Activos corrientes totales</th>\n",
       "      <th>Sector</th>\n",
       "      <th>event</th>\n",
       "    </tr>\n",
       "  </thead>\n",
       "  <tbody>\n",
       "    <tr>\n",
       "      <th>0</th>\n",
       "      <td>7620</td>\n",
       "      <td>3.218247e+05</td>\n",
       "      <td>1322028.0</td>\n",
       "      <td>3.218247e+05</td>\n",
       "      <td>NaN</td>\n",
       "      <td>9.147743e+06</td>\n",
       "      <td>97298.0</td>\n",
       "      <td>9.245041e+06</td>\n",
       "      <td>2610498.0</td>\n",
       "      <td>97298.0</td>\n",
       "      <td>3207644.0</td>\n",
       "      <td>L</td>\n",
       "      <td>0.0</td>\n",
       "    </tr>\n",
       "    <tr>\n",
       "      <th>1</th>\n",
       "      <td>17602</td>\n",
       "      <td>1.665600e+05</td>\n",
       "      <td>-160393.0</td>\n",
       "      <td>1.665600e+05</td>\n",
       "      <td>NaN</td>\n",
       "      <td>3.594330e+05</td>\n",
       "      <td>64899.0</td>\n",
       "      <td>4.243320e+05</td>\n",
       "      <td>-160393.0</td>\n",
       "      <td>64899.0</td>\n",
       "      <td>193787.0</td>\n",
       "      <td>G</td>\n",
       "      <td>0.0</td>\n",
       "    </tr>\n",
       "    <tr>\n",
       "      <th>2</th>\n",
       "      <td>18421</td>\n",
       "      <td>2.387397e+06</td>\n",
       "      <td>380574.0</td>\n",
       "      <td>3.686907e+06</td>\n",
       "      <td>1299510.0</td>\n",
       "      <td>2.421259e+06</td>\n",
       "      <td>2945965.0</td>\n",
       "      <td>5.367224e+06</td>\n",
       "      <td>461980.0</td>\n",
       "      <td>1615549.0</td>\n",
       "      <td>3364490.0</td>\n",
       "      <td>J</td>\n",
       "      <td>0.0</td>\n",
       "    </tr>\n",
       "  </tbody>\n",
       "</table>\n",
       "</div>\n",
       "    <div class=\"colab-df-buttons\">\n",
       "\n",
       "  <div class=\"colab-df-container\">\n",
       "    <button class=\"colab-df-convert\" onclick=\"convertToInteractive('df-32598ff7-c437-492c-9a8c-42b785cf9c99')\"\n",
       "            title=\"Convert this dataframe to an interactive table.\"\n",
       "            style=\"display:none;\">\n",
       "\n",
       "  <svg xmlns=\"http://www.w3.org/2000/svg\" height=\"24px\" viewBox=\"0 -960 960 960\">\n",
       "    <path d=\"M120-120v-720h720v720H120Zm60-500h600v-160H180v160Zm220 220h160v-160H400v160Zm0 220h160v-160H400v160ZM180-400h160v-160H180v160Zm440 0h160v-160H620v160ZM180-180h160v-160H180v160Zm440 0h160v-160H620v160Z\"/>\n",
       "  </svg>\n",
       "    </button>\n",
       "\n",
       "  <style>\n",
       "    .colab-df-container {\n",
       "      display:flex;\n",
       "      gap: 12px;\n",
       "    }\n",
       "\n",
       "    .colab-df-convert {\n",
       "      background-color: #E8F0FE;\n",
       "      border: none;\n",
       "      border-radius: 50%;\n",
       "      cursor: pointer;\n",
       "      display: none;\n",
       "      fill: #1967D2;\n",
       "      height: 32px;\n",
       "      padding: 0 0 0 0;\n",
       "      width: 32px;\n",
       "    }\n",
       "\n",
       "    .colab-df-convert:hover {\n",
       "      background-color: #E2EBFA;\n",
       "      box-shadow: 0px 1px 2px rgba(60, 64, 67, 0.3), 0px 1px 3px 1px rgba(60, 64, 67, 0.15);\n",
       "      fill: #174EA6;\n",
       "    }\n",
       "\n",
       "    .colab-df-buttons div {\n",
       "      margin-bottom: 4px;\n",
       "    }\n",
       "\n",
       "    [theme=dark] .colab-df-convert {\n",
       "      background-color: #3B4455;\n",
       "      fill: #D2E3FC;\n",
       "    }\n",
       "\n",
       "    [theme=dark] .colab-df-convert:hover {\n",
       "      background-color: #434B5C;\n",
       "      box-shadow: 0px 1px 3px 1px rgba(0, 0, 0, 0.15);\n",
       "      filter: drop-shadow(0px 1px 2px rgba(0, 0, 0, 0.3));\n",
       "      fill: #FFFFFF;\n",
       "    }\n",
       "  </style>\n",
       "\n",
       "    <script>\n",
       "      const buttonEl =\n",
       "        document.querySelector('#df-32598ff7-c437-492c-9a8c-42b785cf9c99 button.colab-df-convert');\n",
       "      buttonEl.style.display =\n",
       "        google.colab.kernel.accessAllowed ? 'block' : 'none';\n",
       "\n",
       "      async function convertToInteractive(key) {\n",
       "        const element = document.querySelector('#df-32598ff7-c437-492c-9a8c-42b785cf9c99');\n",
       "        const dataTable =\n",
       "          await google.colab.kernel.invokeFunction('convertToInteractive',\n",
       "                                                    [key], {});\n",
       "        if (!dataTable) return;\n",
       "\n",
       "        const docLinkHtml = 'Like what you see? Visit the ' +\n",
       "          '<a target=\"_blank\" href=https://colab.research.google.com/notebooks/data_table.ipynb>data table notebook</a>'\n",
       "          + ' to learn more about interactive tables.';\n",
       "        element.innerHTML = '';\n",
       "        dataTable['output_type'] = 'display_data';\n",
       "        await google.colab.output.renderOutput(dataTable, element);\n",
       "        const docLink = document.createElement('div');\n",
       "        docLink.innerHTML = docLinkHtml;\n",
       "        element.appendChild(docLink);\n",
       "      }\n",
       "    </script>\n",
       "  </div>\n",
       "\n",
       "\n",
       "<div id=\"df-d366e9be-9800-46ce-808f-a99cd461839f\">\n",
       "  <button class=\"colab-df-quickchart\" onclick=\"quickchart('df-d366e9be-9800-46ce-808f-a99cd461839f')\"\n",
       "            title=\"Suggest charts\"\n",
       "            style=\"display:none;\">\n",
       "\n",
       "<svg xmlns=\"http://www.w3.org/2000/svg\" height=\"24px\"viewBox=\"0 0 24 24\"\n",
       "     width=\"24px\">\n",
       "    <g>\n",
       "        <path d=\"M19 3H5c-1.1 0-2 .9-2 2v14c0 1.1.9 2 2 2h14c1.1 0 2-.9 2-2V5c0-1.1-.9-2-2-2zM9 17H7v-7h2v7zm4 0h-2V7h2v10zm4 0h-2v-4h2v4z\"/>\n",
       "    </g>\n",
       "</svg>\n",
       "  </button>\n",
       "\n",
       "<style>\n",
       "  .colab-df-quickchart {\n",
       "      --bg-color: #E8F0FE;\n",
       "      --fill-color: #1967D2;\n",
       "      --hover-bg-color: #E2EBFA;\n",
       "      --hover-fill-color: #174EA6;\n",
       "      --disabled-fill-color: #AAA;\n",
       "      --disabled-bg-color: #DDD;\n",
       "  }\n",
       "\n",
       "  [theme=dark] .colab-df-quickchart {\n",
       "      --bg-color: #3B4455;\n",
       "      --fill-color: #D2E3FC;\n",
       "      --hover-bg-color: #434B5C;\n",
       "      --hover-fill-color: #FFFFFF;\n",
       "      --disabled-bg-color: #3B4455;\n",
       "      --disabled-fill-color: #666;\n",
       "  }\n",
       "\n",
       "  .colab-df-quickchart {\n",
       "    background-color: var(--bg-color);\n",
       "    border: none;\n",
       "    border-radius: 50%;\n",
       "    cursor: pointer;\n",
       "    display: none;\n",
       "    fill: var(--fill-color);\n",
       "    height: 32px;\n",
       "    padding: 0;\n",
       "    width: 32px;\n",
       "  }\n",
       "\n",
       "  .colab-df-quickchart:hover {\n",
       "    background-color: var(--hover-bg-color);\n",
       "    box-shadow: 0 1px 2px rgba(60, 64, 67, 0.3), 0 1px 3px 1px rgba(60, 64, 67, 0.15);\n",
       "    fill: var(--button-hover-fill-color);\n",
       "  }\n",
       "\n",
       "  .colab-df-quickchart-complete:disabled,\n",
       "  .colab-df-quickchart-complete:disabled:hover {\n",
       "    background-color: var(--disabled-bg-color);\n",
       "    fill: var(--disabled-fill-color);\n",
       "    box-shadow: none;\n",
       "  }\n",
       "\n",
       "  .colab-df-spinner {\n",
       "    border: 2px solid var(--fill-color);\n",
       "    border-color: transparent;\n",
       "    border-bottom-color: var(--fill-color);\n",
       "    animation:\n",
       "      spin 1s steps(1) infinite;\n",
       "  }\n",
       "\n",
       "  @keyframes spin {\n",
       "    0% {\n",
       "      border-color: transparent;\n",
       "      border-bottom-color: var(--fill-color);\n",
       "      border-left-color: var(--fill-color);\n",
       "    }\n",
       "    20% {\n",
       "      border-color: transparent;\n",
       "      border-left-color: var(--fill-color);\n",
       "      border-top-color: var(--fill-color);\n",
       "    }\n",
       "    30% {\n",
       "      border-color: transparent;\n",
       "      border-left-color: var(--fill-color);\n",
       "      border-top-color: var(--fill-color);\n",
       "      border-right-color: var(--fill-color);\n",
       "    }\n",
       "    40% {\n",
       "      border-color: transparent;\n",
       "      border-right-color: var(--fill-color);\n",
       "      border-top-color: var(--fill-color);\n",
       "    }\n",
       "    60% {\n",
       "      border-color: transparent;\n",
       "      border-right-color: var(--fill-color);\n",
       "    }\n",
       "    80% {\n",
       "      border-color: transparent;\n",
       "      border-right-color: var(--fill-color);\n",
       "      border-bottom-color: var(--fill-color);\n",
       "    }\n",
       "    90% {\n",
       "      border-color: transparent;\n",
       "      border-bottom-color: var(--fill-color);\n",
       "    }\n",
       "  }\n",
       "</style>\n",
       "\n",
       "  <script>\n",
       "    async function quickchart(key) {\n",
       "      const quickchartButtonEl =\n",
       "        document.querySelector('#' + key + ' button');\n",
       "      quickchartButtonEl.disabled = true;  // To prevent multiple clicks.\n",
       "      quickchartButtonEl.classList.add('colab-df-spinner');\n",
       "      try {\n",
       "        const charts = await google.colab.kernel.invokeFunction(\n",
       "            'suggestCharts', [key], {});\n",
       "      } catch (error) {\n",
       "        console.error('Error during call to suggestCharts:', error);\n",
       "      }\n",
       "      quickchartButtonEl.classList.remove('colab-df-spinner');\n",
       "      quickchartButtonEl.classList.add('colab-df-quickchart-complete');\n",
       "    }\n",
       "    (() => {\n",
       "      let quickchartButtonEl =\n",
       "        document.querySelector('#df-d366e9be-9800-46ce-808f-a99cd461839f button');\n",
       "      quickchartButtonEl.style.display =\n",
       "        google.colab.kernel.accessAllowed ? 'block' : 'none';\n",
       "    })();\n",
       "  </script>\n",
       "</div>\n",
       "\n",
       "    </div>\n",
       "  </div>\n"
      ],
      "text/plain": [
       "   index  Ganancia bruta  Ganancia (pérdida)  \\\n",
       "0   7620    3.218247e+05           1322028.0   \n",
       "1  17602    1.665600e+05           -160393.0   \n",
       "2  18421    2.387397e+06            380574.0   \n",
       "\n",
       "   Ingresos de actividades ordinarias  Costo de ventas  Patrimonio total  \\\n",
       "0                        3.218247e+05              NaN      9.147743e+06   \n",
       "1                        1.665600e+05              NaN      3.594330e+05   \n",
       "2                        3.686907e+06        1299510.0      2.421259e+06   \n",
       "\n",
       "   Total pasivos  Total de activos  Ganancias acumuladas  \\\n",
       "0        97298.0      9.245041e+06             2610498.0   \n",
       "1        64899.0      4.243320e+05             -160393.0   \n",
       "2      2945965.0      5.367224e+06              461980.0   \n",
       "\n",
       "   Pasivos corrientes totales  Activos corrientes totales Sector  event  \n",
       "0                     97298.0                   3207644.0      L    0.0  \n",
       "1                     64899.0                    193787.0      G    0.0  \n",
       "2                   1615549.0                   3364490.0      J    0.0  "
      ]
     },
     "execution_count": 4,
     "metadata": {},
     "output_type": "execute_result"
    }
   ],
   "source": [
    "df.head(3)"
   ]
  },
  {
   "cell_type": "code",
   "execution_count": 5,
   "metadata": {
    "id": "NzXKbJlbFvPq"
   },
   "outputs": [],
   "source": [
    "def is_binary(df_, nums):\n",
    "    df = df_.copy()\n",
    "    variables = []\n",
    "    for var in nums:\n",
    "        flag = True\n",
    "        unique = df_[var].unique()\n",
    "        for value in unique:\n",
    "            if value not in [0, 1, np.nan, 0.0, 1.0]:\n",
    "                flag = False\n",
    "        if flag == True:\n",
    "            variables.append(var)\n",
    "    return variables\n",
    "\n",
    "def breakdown_vars(df, off_binary=False):\n",
    "    \"\"\"\n",
    "    This function allow us categorize accodign to numerical or not\n",
    "    \"\"\"\n",
    "    binaries = is_binary(df, df.columns)\n",
    "    categorial = []\n",
    "    nonormal = []\n",
    "    normal = []\n",
    "    for t in df.columns:\n",
    "        if off_binary == False:\n",
    "          if (df[t].dtypes.name==\"object\" or df[t].dtypes.name=='category') and  t not in binaries:\n",
    "            categorial.append(t)\n",
    "        else:\n",
    "           if (df[t].dtypes.name==\"object\" or df[t].dtypes.name=='category'):\n",
    "            categorial.append(t)\n",
    "        if (df[t].dtypes==\"int64\" or df[t].dtypes==\"float64\") and t not in binaries:\n",
    "                n,p = stats.shapiro(df[t])\n",
    "                if p<0.05:\n",
    "                    nonormal.append(t)\n",
    "                else:\n",
    "                    normal.append(t)\n",
    "    if off_binary == False:\n",
    "      return categorial, binaries, nonormal, normal\n",
    "    else:\n",
    "      return categorial, nonormal, normal\n",
    "\n",
    "def normalize(array):\n",
    "  return (array - array.mean())/array.std()\n",
    "\n",
    "\n",
    "def clean(df):\n",
    "    # tener en cuenta...\n",
    "    assert isinstance(df, pd.DataFrame), \"df needs to be a pd.DataFrame\"\n",
    "    df.dropna(inplace=True)\n",
    "    indices_to_keep = ~df.isin([np.nan, np.inf, -np.inf]).any(axis=1)\n",
    "    return df[indices_to_keep].astype(np.float64)"
   ]
  },
  {
   "cell_type": "code",
   "execution_count": 6,
   "metadata": {
    "id": "Z0mJQZ6qE0uL"
   },
   "outputs": [],
   "source": [
    "#factorizar\n",
    "df['Sector'] = pd.factorize(df['Sector'])[0]\n",
    "\n",
    "#drop\n",
    "df = df.drop(columns=['Costo de ventas']) #muchos Nan\n",
    "\n",
    "#input Nan\n",
    "df['Ganancias acumuladas'] = df['Ganancias acumuladas'].fillna(df['Ganancias acumuladas'].mean())\n",
    "df['Pasivos corrientes totales'] = df['Pasivos corrientes totales'].fillna(df['Pasivos corrientes totales'].mean())\n",
    "df['Activos corrientes totales'] = df['Activos corrientes totales'].fillna(df['Activos corrientes totales'].mean())\n",
    "\n",
    "#ratios\n",
    "df['ROA']=df['Ganancia (pérdida)']/df['Total de activos']\n",
    "df['ROE']=df['Ganancia (pérdida)']/df['Patrimonio total']\n",
    "df['DR']=df['Total pasivos']/df['Total de activos']\n",
    "df['DC']=df['Pasivos corrientes totales']/df['Total pasivos']\n",
    "df['WCR']=df['Activos corrientes totales']/df['Pasivos corrientes totales']\n",
    "\n",
    "##df['LTD/E']=df['Total pasivos']/df['Patrimonio total']\n",
    "##df['RP'] = df['Ganancia bruta'] / df['Patrimonio total']\n",
    "##df['Ax1'] = (df['Activos corrientes totales'] - df['Pasivos corrientes totales'])/df['Total de activos']\n",
    "##df['Ax2'] = (df['Ganancias acumuladas'] / df['Total de activos'])\n",
    "##df['SRA'] = df['Pasivos corrientes totales'] / df['Patrimonio total']         ...ratios que generan colinealidad\n",
    "\n",
    "\n",
    "#datos\n",
    "features = ['Sector', 'ROA', 'ROE', 'DR', 'DC', 'WCR', 'event']\n",
    "df = df[features]\n",
    "\n",
    "#limpiar\n",
    "df = clean(df)\n",
    "df = df.dropna()"
   ]
  },
  {
   "cell_type": "code",
   "execution_count": 7,
   "metadata": {
    "colab": {
     "base_uri": "https://localhost:8080/",
     "height": 143
    },
    "id": "76wmZPECHuhm",
    "outputId": "e29392b5-51b6-4682-d204-7bc6ae3a75e0"
   },
   "outputs": [
    {
     "data": {
      "application/vnd.google.colaboratory.intrinsic+json": {
       "summary": "{\n  \"name\": \"df\",\n  \"rows\": 14059,\n  \"fields\": [\n    {\n      \"column\": \"Sector\",\n      \"properties\": {\n        \"dtype\": \"number\",\n        \"std\": 4.082031942126639,\n        \"min\": 0.0,\n        \"max\": 19.0,\n        \"num_unique_values\": 20,\n        \"samples\": [\n          0.0,\n          17.0,\n          15.0\n        ],\n        \"semantic_type\": \"\",\n        \"description\": \"\"\n      }\n    },\n    {\n      \"column\": \"ROA\",\n      \"properties\": {\n        \"dtype\": \"number\",\n        \"std\": 4.255742971447956,\n        \"min\": -461.1965132702321,\n        \"max\": 79.99618313177932,\n        \"num_unique_values\": 14014,\n        \"samples\": [\n          0.025389575130171056,\n          -0.04088319942368377,\n          -0.29615521487404367\n        ],\n        \"semantic_type\": \"\",\n        \"description\": \"\"\n      }\n    },\n    {\n      \"column\": \"ROE\",\n      \"properties\": {\n        \"dtype\": \"number\",\n        \"std\": 28.75149649709625,\n        \"min\": -935.2987721691678,\n        \"max\": 2492.413223140496,\n        \"num_unique_values\": 14012,\n        \"samples\": [\n          0.055944696313227085,\n          -0.05421564840574847,\n          0.04106446487129816\n        ],\n        \"semantic_type\": \"\",\n        \"description\": \"\"\n      }\n    },\n    {\n      \"column\": \"DR\",\n      \"properties\": {\n        \"dtype\": \"number\",\n        \"std\": 2576.282525284585,\n        \"min\": 1.6843794478144794e-06,\n        \"max\": 305472.0,\n        \"num_unique_values\": 14056,\n        \"samples\": [\n          0.16430308614665995,\n          0.8176452029282673,\n          0.24809124463574297\n        ],\n        \"semantic_type\": \"\",\n        \"description\": \"\"\n      }\n    },\n    {\n      \"column\": \"DC\",\n      \"properties\": {\n        \"dtype\": \"number\",\n        \"std\": 42.108986594196374,\n        \"min\": 5.3599472581189804e-06,\n        \"max\": 4827.309304554945,\n        \"num_unique_values\": 11148,\n        \"samples\": [\n          0.9601241620808565,\n          0.4148750861438423,\n          0.7203903229618625\n        ],\n        \"semantic_type\": \"\",\n        \"description\": \"\"\n      }\n    },\n    {\n      \"column\": \"WCR\",\n      \"properties\": {\n        \"dtype\": \"number\",\n        \"std\": 5052.732899754112,\n        \"min\": 0.0,\n        \"max\": 593690.4545454546,\n        \"num_unique_values\": 14046,\n        \"samples\": [\n          1.235532722930793,\n          0.8663495245429415,\n          0.47429705474279493\n        ],\n        \"semantic_type\": \"\",\n        \"description\": \"\"\n      }\n    },\n    {\n      \"column\": \"event\",\n      \"properties\": {\n        \"dtype\": \"number\",\n        \"std\": 0.13085905600940398,\n        \"min\": 0.0,\n        \"max\": 1.0,\n        \"num_unique_values\": 2,\n        \"samples\": [\n          1.0,\n          0.0\n        ],\n        \"semantic_type\": \"\",\n        \"description\": \"\"\n      }\n    }\n  ]\n}",
       "type": "dataframe",
       "variable_name": "df"
      },
      "text/html": [
       "\n",
       "  <div id=\"df-42a4207b-959b-4abf-9902-fafd12ccdbf5\" class=\"colab-df-container\">\n",
       "    <div>\n",
       "<style scoped>\n",
       "    .dataframe tbody tr th:only-of-type {\n",
       "        vertical-align: middle;\n",
       "    }\n",
       "\n",
       "    .dataframe tbody tr th {\n",
       "        vertical-align: top;\n",
       "    }\n",
       "\n",
       "    .dataframe thead th {\n",
       "        text-align: right;\n",
       "    }\n",
       "</style>\n",
       "<table border=\"1\" class=\"dataframe\">\n",
       "  <thead>\n",
       "    <tr style=\"text-align: right;\">\n",
       "      <th></th>\n",
       "      <th>Sector</th>\n",
       "      <th>ROA</th>\n",
       "      <th>ROE</th>\n",
       "      <th>DR</th>\n",
       "      <th>DC</th>\n",
       "      <th>WCR</th>\n",
       "      <th>event</th>\n",
       "    </tr>\n",
       "  </thead>\n",
       "  <tbody>\n",
       "    <tr>\n",
       "      <th>0</th>\n",
       "      <td>0.0</td>\n",
       "      <td>0.142999</td>\n",
       "      <td>0.144520</td>\n",
       "      <td>0.010524</td>\n",
       "      <td>1.000000</td>\n",
       "      <td>32.967214</td>\n",
       "      <td>0.0</td>\n",
       "    </tr>\n",
       "    <tr>\n",
       "      <th>1</th>\n",
       "      <td>1.0</td>\n",
       "      <td>-0.377989</td>\n",
       "      <td>-0.446239</td>\n",
       "      <td>0.152944</td>\n",
       "      <td>1.000000</td>\n",
       "      <td>2.985978</td>\n",
       "      <td>0.0</td>\n",
       "    </tr>\n",
       "    <tr>\n",
       "      <th>2</th>\n",
       "      <td>2.0</td>\n",
       "      <td>0.070907</td>\n",
       "      <td>0.157180</td>\n",
       "      <td>0.548881</td>\n",
       "      <td>0.548394</td>\n",
       "      <td>2.082568</td>\n",
       "      <td>0.0</td>\n",
       "    </tr>\n",
       "  </tbody>\n",
       "</table>\n",
       "</div>\n",
       "    <div class=\"colab-df-buttons\">\n",
       "\n",
       "  <div class=\"colab-df-container\">\n",
       "    <button class=\"colab-df-convert\" onclick=\"convertToInteractive('df-42a4207b-959b-4abf-9902-fafd12ccdbf5')\"\n",
       "            title=\"Convert this dataframe to an interactive table.\"\n",
       "            style=\"display:none;\">\n",
       "\n",
       "  <svg xmlns=\"http://www.w3.org/2000/svg\" height=\"24px\" viewBox=\"0 -960 960 960\">\n",
       "    <path d=\"M120-120v-720h720v720H120Zm60-500h600v-160H180v160Zm220 220h160v-160H400v160Zm0 220h160v-160H400v160ZM180-400h160v-160H180v160Zm440 0h160v-160H620v160ZM180-180h160v-160H180v160Zm440 0h160v-160H620v160Z\"/>\n",
       "  </svg>\n",
       "    </button>\n",
       "\n",
       "  <style>\n",
       "    .colab-df-container {\n",
       "      display:flex;\n",
       "      gap: 12px;\n",
       "    }\n",
       "\n",
       "    .colab-df-convert {\n",
       "      background-color: #E8F0FE;\n",
       "      border: none;\n",
       "      border-radius: 50%;\n",
       "      cursor: pointer;\n",
       "      display: none;\n",
       "      fill: #1967D2;\n",
       "      height: 32px;\n",
       "      padding: 0 0 0 0;\n",
       "      width: 32px;\n",
       "    }\n",
       "\n",
       "    .colab-df-convert:hover {\n",
       "      background-color: #E2EBFA;\n",
       "      box-shadow: 0px 1px 2px rgba(60, 64, 67, 0.3), 0px 1px 3px 1px rgba(60, 64, 67, 0.15);\n",
       "      fill: #174EA6;\n",
       "    }\n",
       "\n",
       "    .colab-df-buttons div {\n",
       "      margin-bottom: 4px;\n",
       "    }\n",
       "\n",
       "    [theme=dark] .colab-df-convert {\n",
       "      background-color: #3B4455;\n",
       "      fill: #D2E3FC;\n",
       "    }\n",
       "\n",
       "    [theme=dark] .colab-df-convert:hover {\n",
       "      background-color: #434B5C;\n",
       "      box-shadow: 0px 1px 3px 1px rgba(0, 0, 0, 0.15);\n",
       "      filter: drop-shadow(0px 1px 2px rgba(0, 0, 0, 0.3));\n",
       "      fill: #FFFFFF;\n",
       "    }\n",
       "  </style>\n",
       "\n",
       "    <script>\n",
       "      const buttonEl =\n",
       "        document.querySelector('#df-42a4207b-959b-4abf-9902-fafd12ccdbf5 button.colab-df-convert');\n",
       "      buttonEl.style.display =\n",
       "        google.colab.kernel.accessAllowed ? 'block' : 'none';\n",
       "\n",
       "      async function convertToInteractive(key) {\n",
       "        const element = document.querySelector('#df-42a4207b-959b-4abf-9902-fafd12ccdbf5');\n",
       "        const dataTable =\n",
       "          await google.colab.kernel.invokeFunction('convertToInteractive',\n",
       "                                                    [key], {});\n",
       "        if (!dataTable) return;\n",
       "\n",
       "        const docLinkHtml = 'Like what you see? Visit the ' +\n",
       "          '<a target=\"_blank\" href=https://colab.research.google.com/notebooks/data_table.ipynb>data table notebook</a>'\n",
       "          + ' to learn more about interactive tables.';\n",
       "        element.innerHTML = '';\n",
       "        dataTable['output_type'] = 'display_data';\n",
       "        await google.colab.output.renderOutput(dataTable, element);\n",
       "        const docLink = document.createElement('div');\n",
       "        docLink.innerHTML = docLinkHtml;\n",
       "        element.appendChild(docLink);\n",
       "      }\n",
       "    </script>\n",
       "  </div>\n",
       "\n",
       "\n",
       "<div id=\"df-25a341ae-e39d-4f15-8200-4476570fda40\">\n",
       "  <button class=\"colab-df-quickchart\" onclick=\"quickchart('df-25a341ae-e39d-4f15-8200-4476570fda40')\"\n",
       "            title=\"Suggest charts\"\n",
       "            style=\"display:none;\">\n",
       "\n",
       "<svg xmlns=\"http://www.w3.org/2000/svg\" height=\"24px\"viewBox=\"0 0 24 24\"\n",
       "     width=\"24px\">\n",
       "    <g>\n",
       "        <path d=\"M19 3H5c-1.1 0-2 .9-2 2v14c0 1.1.9 2 2 2h14c1.1 0 2-.9 2-2V5c0-1.1-.9-2-2-2zM9 17H7v-7h2v7zm4 0h-2V7h2v10zm4 0h-2v-4h2v4z\"/>\n",
       "    </g>\n",
       "</svg>\n",
       "  </button>\n",
       "\n",
       "<style>\n",
       "  .colab-df-quickchart {\n",
       "      --bg-color: #E8F0FE;\n",
       "      --fill-color: #1967D2;\n",
       "      --hover-bg-color: #E2EBFA;\n",
       "      --hover-fill-color: #174EA6;\n",
       "      --disabled-fill-color: #AAA;\n",
       "      --disabled-bg-color: #DDD;\n",
       "  }\n",
       "\n",
       "  [theme=dark] .colab-df-quickchart {\n",
       "      --bg-color: #3B4455;\n",
       "      --fill-color: #D2E3FC;\n",
       "      --hover-bg-color: #434B5C;\n",
       "      --hover-fill-color: #FFFFFF;\n",
       "      --disabled-bg-color: #3B4455;\n",
       "      --disabled-fill-color: #666;\n",
       "  }\n",
       "\n",
       "  .colab-df-quickchart {\n",
       "    background-color: var(--bg-color);\n",
       "    border: none;\n",
       "    border-radius: 50%;\n",
       "    cursor: pointer;\n",
       "    display: none;\n",
       "    fill: var(--fill-color);\n",
       "    height: 32px;\n",
       "    padding: 0;\n",
       "    width: 32px;\n",
       "  }\n",
       "\n",
       "  .colab-df-quickchart:hover {\n",
       "    background-color: var(--hover-bg-color);\n",
       "    box-shadow: 0 1px 2px rgba(60, 64, 67, 0.3), 0 1px 3px 1px rgba(60, 64, 67, 0.15);\n",
       "    fill: var(--button-hover-fill-color);\n",
       "  }\n",
       "\n",
       "  .colab-df-quickchart-complete:disabled,\n",
       "  .colab-df-quickchart-complete:disabled:hover {\n",
       "    background-color: var(--disabled-bg-color);\n",
       "    fill: var(--disabled-fill-color);\n",
       "    box-shadow: none;\n",
       "  }\n",
       "\n",
       "  .colab-df-spinner {\n",
       "    border: 2px solid var(--fill-color);\n",
       "    border-color: transparent;\n",
       "    border-bottom-color: var(--fill-color);\n",
       "    animation:\n",
       "      spin 1s steps(1) infinite;\n",
       "  }\n",
       "\n",
       "  @keyframes spin {\n",
       "    0% {\n",
       "      border-color: transparent;\n",
       "      border-bottom-color: var(--fill-color);\n",
       "      border-left-color: var(--fill-color);\n",
       "    }\n",
       "    20% {\n",
       "      border-color: transparent;\n",
       "      border-left-color: var(--fill-color);\n",
       "      border-top-color: var(--fill-color);\n",
       "    }\n",
       "    30% {\n",
       "      border-color: transparent;\n",
       "      border-left-color: var(--fill-color);\n",
       "      border-top-color: var(--fill-color);\n",
       "      border-right-color: var(--fill-color);\n",
       "    }\n",
       "    40% {\n",
       "      border-color: transparent;\n",
       "      border-right-color: var(--fill-color);\n",
       "      border-top-color: var(--fill-color);\n",
       "    }\n",
       "    60% {\n",
       "      border-color: transparent;\n",
       "      border-right-color: var(--fill-color);\n",
       "    }\n",
       "    80% {\n",
       "      border-color: transparent;\n",
       "      border-right-color: var(--fill-color);\n",
       "      border-bottom-color: var(--fill-color);\n",
       "    }\n",
       "    90% {\n",
       "      border-color: transparent;\n",
       "      border-bottom-color: var(--fill-color);\n",
       "    }\n",
       "  }\n",
       "</style>\n",
       "\n",
       "  <script>\n",
       "    async function quickchart(key) {\n",
       "      const quickchartButtonEl =\n",
       "        document.querySelector('#' + key + ' button');\n",
       "      quickchartButtonEl.disabled = true;  // To prevent multiple clicks.\n",
       "      quickchartButtonEl.classList.add('colab-df-spinner');\n",
       "      try {\n",
       "        const charts = await google.colab.kernel.invokeFunction(\n",
       "            'suggestCharts', [key], {});\n",
       "      } catch (error) {\n",
       "        console.error('Error during call to suggestCharts:', error);\n",
       "      }\n",
       "      quickchartButtonEl.classList.remove('colab-df-spinner');\n",
       "      quickchartButtonEl.classList.add('colab-df-quickchart-complete');\n",
       "    }\n",
       "    (() => {\n",
       "      let quickchartButtonEl =\n",
       "        document.querySelector('#df-25a341ae-e39d-4f15-8200-4476570fda40 button');\n",
       "      quickchartButtonEl.style.display =\n",
       "        google.colab.kernel.accessAllowed ? 'block' : 'none';\n",
       "    })();\n",
       "  </script>\n",
       "</div>\n",
       "\n",
       "    </div>\n",
       "  </div>\n"
      ],
      "text/plain": [
       "   Sector       ROA       ROE        DR        DC        WCR  event\n",
       "0     0.0  0.142999  0.144520  0.010524  1.000000  32.967214    0.0\n",
       "1     1.0 -0.377989 -0.446239  0.152944  1.000000   2.985978    0.0\n",
       "2     2.0  0.070907  0.157180  0.548881  0.548394   2.082568    0.0"
      ]
     },
     "execution_count": 7,
     "metadata": {},
     "output_type": "execute_result"
    }
   ],
   "source": [
    "df.head(3)"
   ]
  },
  {
   "cell_type": "code",
   "execution_count": 8,
   "metadata": {
    "colab": {
     "base_uri": "https://localhost:8080/",
     "height": 374
    },
    "id": "kyGoETd1FSEi",
    "outputId": "f91bf343-3d24-4131-85a1-342fadda1fab"
   },
   "outputs": [
    {
     "name": "stderr",
     "output_type": "stream",
     "text": [
      "/usr/local/lib/python3.10/dist-packages/scipy/stats/_axis_nan_policy.py:531: UserWarning: scipy.stats.shapiro: For N > 5000, computed p-value may not be accurate. Current N is 14059.\n",
      "  res = hypotest_fun_out(*samples, **kwds)\n"
     ]
    },
    {
     "data": {
      "text/html": [
       "<div>\n",
       "<style scoped>\n",
       "    .dataframe tbody tr th:only-of-type {\n",
       "        vertical-align: middle;\n",
       "    }\n",
       "\n",
       "    .dataframe tbody tr th {\n",
       "        vertical-align: top;\n",
       "    }\n",
       "\n",
       "    .dataframe thead tr th {\n",
       "        text-align: left;\n",
       "    }\n",
       "</style>\n",
       "<table border=\"1\" class=\"dataframe\">\n",
       "  <thead>\n",
       "    <tr>\n",
       "      <th></th>\n",
       "      <th></th>\n",
       "      <th colspan=\"5\" halign=\"left\">Grouped by event</th>\n",
       "    </tr>\n",
       "    <tr>\n",
       "      <th></th>\n",
       "      <th></th>\n",
       "      <th>Missing</th>\n",
       "      <th>Overall</th>\n",
       "      <th>0.0</th>\n",
       "      <th>1.0</th>\n",
       "      <th>P-Value</th>\n",
       "    </tr>\n",
       "  </thead>\n",
       "  <tbody>\n",
       "    <tr>\n",
       "      <th>n</th>\n",
       "      <th></th>\n",
       "      <td></td>\n",
       "      <td>14059</td>\n",
       "      <td>13814</td>\n",
       "      <td>245</td>\n",
       "      <td></td>\n",
       "    </tr>\n",
       "    <tr>\n",
       "      <th>Sector, median [Q1,Q3]</th>\n",
       "      <th></th>\n",
       "      <td>0</td>\n",
       "      <td>5.0 [1.0,6.0]</td>\n",
       "      <td>5.0 [1.0,6.0]</td>\n",
       "      <td>6.0 [1.0,6.0]</td>\n",
       "      <td>&lt;0.001</td>\n",
       "    </tr>\n",
       "    <tr>\n",
       "      <th>ROA, median [Q1,Q3]</th>\n",
       "      <th></th>\n",
       "      <td>0</td>\n",
       "      <td>0.0 [0.0,0.1]</td>\n",
       "      <td>0.0 [0.0,0.1]</td>\n",
       "      <td>-0.0 [-0.1,0.0]</td>\n",
       "      <td>&lt;0.001</td>\n",
       "    </tr>\n",
       "    <tr>\n",
       "      <th>ROE, median [Q1,Q3]</th>\n",
       "      <th></th>\n",
       "      <td>0</td>\n",
       "      <td>0.1 [0.0,0.2]</td>\n",
       "      <td>0.1 [0.0,0.2]</td>\n",
       "      <td>0.0 [-0.1,0.1]</td>\n",
       "      <td>&lt;0.001</td>\n",
       "    </tr>\n",
       "    <tr>\n",
       "      <th>DR, median [Q1,Q3]</th>\n",
       "      <th></th>\n",
       "      <td>0</td>\n",
       "      <td>0.5 [0.3,0.7]</td>\n",
       "      <td>0.5 [0.3,0.7]</td>\n",
       "      <td>0.7 [0.6,0.9]</td>\n",
       "      <td>&lt;0.001</td>\n",
       "    </tr>\n",
       "    <tr>\n",
       "      <th>DC, median [Q1,Q3]</th>\n",
       "      <th></th>\n",
       "      <td>0</td>\n",
       "      <td>0.7 [0.4,1.0]</td>\n",
       "      <td>0.8 [0.4,1.0]</td>\n",
       "      <td>0.5 [0.2,0.9]</td>\n",
       "      <td>&lt;0.001</td>\n",
       "    </tr>\n",
       "    <tr>\n",
       "      <th>WCR, median [Q1,Q3]</th>\n",
       "      <th></th>\n",
       "      <td>0</td>\n",
       "      <td>1.7 [1.1,3.3]</td>\n",
       "      <td>1.7 [1.1,3.3]</td>\n",
       "      <td>1.3 [0.8,2.4]</td>\n",
       "      <td>&lt;0.001</td>\n",
       "    </tr>\n",
       "  </tbody>\n",
       "</table>\n",
       "</div><br />"
      ],
      "text/plain": [
       "                        Grouped by event                                                       \n",
       "                                 Missing        Overall            0.0              1.0 P-Value\n",
       "n                                                 14059          13814              245        \n",
       "Sector, median [Q1,Q3]                 0  5.0 [1.0,6.0]  5.0 [1.0,6.0]    6.0 [1.0,6.0]  <0.001\n",
       "ROA, median [Q1,Q3]                    0  0.0 [0.0,0.1]  0.0 [0.0,0.1]  -0.0 [-0.1,0.0]  <0.001\n",
       "ROE, median [Q1,Q3]                    0  0.1 [0.0,0.2]  0.1 [0.0,0.2]   0.0 [-0.1,0.1]  <0.001\n",
       "DR, median [Q1,Q3]                     0  0.5 [0.3,0.7]  0.5 [0.3,0.7]    0.7 [0.6,0.9]  <0.001\n",
       "DC, median [Q1,Q3]                     0  0.7 [0.4,1.0]  0.8 [0.4,1.0]    0.5 [0.2,0.9]  <0.001\n",
       "WCR, median [Q1,Q3]                    0  1.7 [1.1,3.3]  1.7 [1.1,3.3]    1.3 [0.8,2.4]  <0.001"
      ]
     },
     "execution_count": 8,
     "metadata": {},
     "output_type": "execute_result"
    }
   ],
   "source": [
    "#tabla1\n",
    "cat, binaries, nonormal, normal = breakdown_vars(df, off_binary=False)\n",
    "mytable = TableOne(df,categorical=cat, nonnormal=nonormal, groupby='event', pval=True)\n",
    "mytable"
   ]
  },
  {
   "cell_type": "code",
   "execution_count": 9,
   "metadata": {
    "colab": {
     "base_uri": "https://localhost:8080/",
     "height": 453
    },
    "id": "rOHAX9THIgB1",
    "outputId": "3f5d9fcd-2380-4c33-98f4-c5b47bd75c33"
   },
   "outputs": [
    {
     "data": {
      "text/plain": [
       "<Axes: >"
      ]
     },
     "execution_count": 9,
     "metadata": {},
     "output_type": "execute_result"
    },
    {
     "data": {
      "image/png": "[encoded data removed]",
      "text/plain": [
       "<Figure size 640x480 with 2 Axes>"
      ]
     },
     "metadata": {},
     "output_type": "display_data"
    }
   ],
   "source": [
    "#correlacion\n",
    "corr_matrix = df.corr()\n",
    "sns.heatmap(corr_matrix, annot=True, cmap='coolwarm', fmt=\".2f\") #no hay"
   ]
  },
  {
   "cell_type": "code",
   "execution_count": 10,
   "metadata": {
    "id": "ouZM9sU3MugB"
   },
   "outputs": [],
   "source": [
    "#target\n",
    "X = df.drop('event', axis=1)\n",
    "y = df['event']"
   ]
  },
  {
   "cell_type": "code",
   "execution_count": 11,
   "metadata": {
    "id": "CB7t-9spM5nu"
   },
   "outputs": [],
   "source": [
    "#split\n",
    "X_train, X_test, y_train, y_test = train_test_split(X, y, test_size=0.2, shuffle = True, random_state = 666, stratify=y)"
   ]
  },
  {
   "cell_type": "code",
   "execution_count": 12,
   "metadata": {
    "id": "emxJb60tNRlH"
   },
   "outputs": [],
   "source": [
    "#desbalanceo\n",
    "rus = RandomUnderSampler(random_state=1234)\n",
    "X_train, y_train = rus.fit_resample(X, y)"
   ]
  },
  {
   "cell_type": "code",
   "execution_count": 13,
   "metadata": {
    "colab": {
     "base_uri": "https://localhost:8080/"
    },
    "id": "wAz1Rk10ZOMb",
    "outputId": "8fdfbd19-cacf-485f-dba2-0987ef95733a"
   },
   "outputs": [
    {
     "name": "stdout",
     "output_type": "stream",
     "text": [
      "skipping\n"
     ]
    }
   ],
   "source": [
    "%%script echo skipping\n",
    "#normalizar        (regresion logistica + regresion lineal)\n",
    "scaler = StandardScaler()\n",
    "X_train = scaler.fit_transform(X_train)\n",
    "X_test = scaler.transform(X_test)"
   ]
  },
  {
   "cell_type": "code",
   "execution_count": 14,
   "metadata": {
    "id": "CEkXWKXhZIbn"
   },
   "outputs": [],
   "source": [
    "#estandarización Min-Max  (PARA: Knn, Kmeans, red neuronal)\n",
    "scaler = MinMaxScaler() # Crea el escalador\n",
    "scaler.fit(X_train) # Ajusta el escalador solo al conjunto de entrenamiento\n",
    "X_train = scaler.transform(X_train)\n",
    "X_test = scaler.transform(X_test)"
   ]
  },
  {
   "cell_type": "markdown",
   "metadata": {
    "id": "mBgGIRhNNGho"
   },
   "source": [
    "###Logistic regression"
   ]
  },
  {
   "cell_type": "code",
   "execution_count": 15,
   "metadata": {
    "colab": {
     "base_uri": "https://localhost:8080/"
    },
    "id": "myttOxDpOQap",
    "outputId": "5ae63e4a-6dad-4b50-c659-b12f1363514f"
   },
   "outputs": [
    {
     "name": "stdout",
     "output_type": "stream",
     "text": [
      "              precision    recall  f1-score   support\n",
      "\n",
      "         0.0       0.99      0.72      0.83      2763\n",
      "         1.0       0.04      0.69      0.08        49\n",
      "\n",
      "    accuracy                           0.72      2812\n",
      "   macro avg       0.52      0.71      0.46      2812\n",
      "weighted avg       0.98      0.72      0.82      2812\n",
      "\n",
      "0.7061497780436822\n"
     ]
    }
   ],
   "source": [
    "#model\n",
    "model_lr = LogisticRegression(random_state=666, max_iter=1000)\n",
    "model_lr.fit(X_train, y_train)\n",
    "\n",
    "#umbral\n",
    "umbral = 0.5\n",
    "y_probs = model_lr.predict_proba(X_test)[:, 1]\n",
    "preds_lr = (y_probs >= umbral).astype(int) #applicar treshold\n",
    "\n",
    "print(classification_report(y_test, preds_lr))\n",
    "\n",
    "#roc\n",
    "fpr, tpr, thresholds = roc_curve(y_test, preds_lr)\n",
    "roc_auc = auc(fpr, tpr)\n",
    "print(roc_auc)"
   ]
  },
  {
   "cell_type": "markdown",
   "metadata": {
    "id": "Yx09YKsNexkI"
   },
   "source": [
    "####optimizar logistic regresion"
   ]
  },
  {
   "cell_type": "code",
   "execution_count": 16,
   "metadata": {
    "id": "yTaGjhaDNOGd"
   },
   "outputs": [],
   "source": [
    "def grid_lr(X_train, y_train):\n",
    "    model = LogisticRegression(random_state=666, max_iter=1000)\n",
    "    class_weight = ['balanced', {0:0.01, 1:0.99}, {0:0.1, 1:0.9}, {0:0.2, 1:0.8}]\n",
    "    solvers = ['liblinear', 'lbfgs', 'newton-cg', 'sag']\n",
    "    penalty = ['l2']  # Solo se usa l2\n",
    "    c_values = [100, 10, 1.0, 0.1, 0.01, 0.001]\n",
    "    grid = dict(solver=solvers, penalty=penalty, C=c_values, class_weight=class_weight)\n",
    "    cv = RepeatedStratifiedKFold(n_splits=10, n_repeats=3, random_state=1)\n",
    "    grid_search = GridSearchCV(estimator=model, param_grid=grid, n_jobs=-1, cv=cv,\n",
    "                           scoring='roc_auc',error_score='raise')\n",
    "    grid_result = grid_search.fit(X_train, y_train)\n",
    "    print(grid_result.best_params_)\n",
    "    return  grid_result.best_estimator_"
   ]
  },
  {
   "cell_type": "code",
   "execution_count": 17,
   "metadata": {
    "colab": {
     "base_uri": "https://localhost:8080/"
    },
    "id": "BudoDnEDShXH",
    "outputId": "0e8842e6-884a-4ff4-cb82-737f8bf8074e"
   },
   "outputs": [
    {
     "name": "stdout",
     "output_type": "stream",
     "text": [
      "{'C': 100, 'class_weight': 'balanced', 'penalty': 'l2', 'solver': 'lbfgs'}\n",
      "              precision    recall  f1-score   support\n",
      "\n",
      "         0.0       0.99      0.71      0.83      2763\n",
      "         1.0       0.04      0.69      0.08        49\n",
      "\n",
      "    accuracy                           0.71      2812\n",
      "   macro avg       0.52      0.70      0.45      2812\n",
      "weighted avg       0.98      0.71      0.81      2812\n",
      "\n",
      "0.7061497780436822\n"
     ]
    }
   ],
   "source": [
    "best_lr = grid_lr(X_train, y_train)\n",
    "\n",
    "#umbral\n",
    "umbral = 0.5\n",
    "y_probs_lr2 = best_lr.predict_proba(X_test)\n",
    "preds_lr_2 = (y_probs_lr2[:, 1] >= umbral).astype(int)\n",
    "\n",
    "print(classification_report(y_test, preds_lr_2))\n",
    "\n",
    "#roc\n",
    "fpr, tpr, thresholds = roc_curve(y_test, preds_lr)\n",
    "roc_auc = auc(fpr, tpr)\n",
    "print(roc_auc)"
   ]
  },
  {
   "cell_type": "markdown",
   "metadata": {
    "id": "-q90BEbgY7Pq"
   },
   "source": [
    "###Knn"
   ]
  },
  {
   "cell_type": "code",
   "execution_count": 18,
   "metadata": {
    "colab": {
     "base_uri": "https://localhost:8080/"
    },
    "id": "Hb9tUY5aePtv",
    "outputId": "5858a189-8453-4527-cd54-08d90db6118e"
   },
   "outputs": [
    {
     "name": "stdout",
     "output_type": "stream",
     "text": [
      "              precision    recall  f1-score   support\n",
      "\n",
      "         0.0       1.00      0.68      0.81      2763\n",
      "         1.0       0.05      0.88      0.09        49\n",
      "\n",
      "    accuracy                           0.68      2812\n",
      "   macro avg       0.52      0.78      0.45      2812\n",
      "weighted avg       0.98      0.68      0.80      2812\n",
      "\n",
      "0.7786235015178711\n"
     ]
    }
   ],
   "source": [
    "model_knn = KNeighborsClassifier()\n",
    "model_knn.fit(X_train, y_train)\n",
    "preds_knn = model_knn.predict(X_test)\n",
    "print(classification_report(y_test, preds_knn))\n",
    "\n",
    "#roc\n",
    "fpr, tpr, thresholds = roc_curve(y_test, preds_knn)\n",
    "roc_auc = auc(fpr, tpr)\n",
    "print(roc_auc)"
   ]
  },
  {
   "cell_type": "markdown",
   "metadata": {
    "id": "01PXYxtgfz3t"
   },
   "source": [
    "####optimizar knn"
   ]
  },
  {
   "cell_type": "code",
   "execution_count": 19,
   "metadata": {
    "id": "No5x1mmfY6va"
   },
   "outputs": [],
   "source": [
    "def grid_knn(X_train, y_train):\n",
    "    model = KNeighborsClassifier()\n",
    "    n_neighbors = list(range(1, 31, 2))  # Probar valores impares de k hasta 50\n",
    "    weights = ['uniform', 'distance']\n",
    "    metric = ['euclidean', 'manhattan', 'minkowski']  # Agregar métrica 'chebyshev'\n",
    "    p = [1, 2, 3]  # Agregar parámetro p para la métrica de Minkowski\n",
    "    grid = dict(n_neighbors=n_neighbors, weights=weights, metric=metric, p=p)  # Incluir 'p' en la grilla\n",
    "    cv = RepeatedStratifiedKFold(n_splits=10, n_repeats=3, random_state=1)\n",
    "    grid_search = GridSearchCV(estimator=model, param_grid=grid, n_jobs=-1, cv=cv,\n",
    "                               scoring='roc_auc',error_score='raise')\n",
    "    grid_result = grid_search.fit(X_train, y_train)\n",
    "    print(grid_result.best_estimator_)\n",
    "    return grid_result.best_estimator_"
   ]
  },
  {
   "cell_type": "code",
   "execution_count": 20,
   "metadata": {
    "colab": {
     "base_uri": "https://localhost:8080/"
    },
    "id": "KQFR-rK_dSm-",
    "outputId": "23c8e4f9-5e56-4bd6-fcbe-8b1ffec88dd3"
   },
   "outputs": [
    {
     "name": "stdout",
     "output_type": "stream",
     "text": [
      "KNeighborsClassifier(metric='manhattan', n_neighbors=25, p=1,\n",
      "                     weights='distance')\n",
      "              precision    recall  f1-score   support\n",
      "\n",
      "         0.0       1.00      0.67      0.80      2763\n",
      "         1.0       0.05      1.00      0.10        49\n",
      "\n",
      "    accuracy                           0.68      2812\n",
      "   macro avg       0.53      0.84      0.45      2812\n",
      "weighted avg       0.98      0.68      0.79      2812\n",
      "\n",
      "0.8351429605501267\n"
     ]
    },
    {
     "name": "stderr",
     "output_type": "stream",
     "text": [
      "/usr/local/lib/python3.10/dist-packages/numpy/ma/core.py:2820: RuntimeWarning: invalid value encountered in cast\n",
      "  _data = np.array(data, dtype=dtype, copy=copy,\n"
     ]
    }
   ],
   "source": [
    "best_knn = grid_knn(X_train, y_train)\n",
    "best_knn.fit(X_train, y_train)\n",
    "preds_knn2 = best_knn.predict(X_test)\n",
    "print(classification_report(y_test, preds_knn2))\n",
    "\n",
    "#roc\n",
    "fpr, tpr, thresholds = roc_curve(y_test, preds_knn2)\n",
    "roc_auc = auc(fpr, tpr)\n",
    "print(roc_auc)"
   ]
  },
  {
   "cell_type": "markdown",
   "metadata": {
    "id": "SFq1blvggY4W"
   },
   "source": [
    "###Arboles decision"
   ]
  },
  {
   "cell_type": "code",
   "execution_count": 21,
   "metadata": {
    "colab": {
     "base_uri": "https://localhost:8080/"
    },
    "id": "O3bShoTwgfVT",
    "outputId": "cb57e658-4c23-463d-dba1-84be14f2d0ef"
   },
   "outputs": [
    {
     "name": "stdout",
     "output_type": "stream",
     "text": [
      "              precision    recall  f1-score   support\n",
      "\n",
      "         0.0       1.00      0.66      0.79      2763\n",
      "         1.0       0.05      1.00      0.09        49\n",
      "\n",
      "    accuracy                           0.66      2812\n",
      "   macro avg       0.52      0.83      0.44      2812\n",
      "weighted avg       0.98      0.66      0.78      2812\n",
      "\n",
      "0.8279044516829533\n"
     ]
    }
   ],
   "source": [
    "model_dt = DecisionTreeClassifier(random_state=12)\n",
    "preds_dt = model_dt.fit(X_train,y_train).predict(X_test)\n",
    "print(classification_report(y_test,preds_dt))\n",
    "\n",
    "#roc\n",
    "fpr, tpr, thresholds = roc_curve(y_test, preds_dt)\n",
    "roc_auc = auc(fpr, tpr)\n",
    "print(roc_auc)"
   ]
  },
  {
   "cell_type": "markdown",
   "metadata": {
    "id": "tSwERrQhhMky"
   },
   "source": [
    "####optimizar arboles decision"
   ]
  },
  {
   "cell_type": "code",
   "execution_count": 22,
   "metadata": {
    "id": "_Uz0cHB-hLWR"
   },
   "outputs": [],
   "source": [
    "def grid_dt(X_train, y_train):\n",
    "    model = DecisionTreeClassifier(random_state=1000)\n",
    "    class_weight =  [{0:0.05, 1:0.95}, {0:0.1, 1:0.9}, {0:0.2, 1:0.8}, {0:0.5, 1:0.5}]\n",
    "    max_depth = None,\n",
    "    min_samples_leaf = [5, 10, 20, 50, ]\n",
    "    criterion  = [\"gini\", \"entropy\"]\n",
    "    grid = dict(class_weight=class_weight, max_depth=max_depth, min_samples_leaf=min_samples_leaf, criterion=criterion)\n",
    "    cv = RepeatedStratifiedKFold(n_splits=10, n_repeats=3, random_state=1)\n",
    "    grid_search = GridSearchCV(estimator=model, param_grid=grid, n_jobs=-1, cv=cv,\n",
    "                           scoring='accuracy',error_score='raise')\n",
    "    grid_result = grid_search.fit(X_train, y_train)\n",
    "    return grid_search.best_estimator_"
   ]
  },
  {
   "cell_type": "code",
   "execution_count": 23,
   "metadata": {
    "colab": {
     "base_uri": "https://localhost:8080/"
    },
    "id": "qgMErRUIhTZ4",
    "outputId": "e5536019-bbd0-4087-9dc1-dd6e9d4535d1"
   },
   "outputs": [
    {
     "name": "stdout",
     "output_type": "stream",
     "text": [
      "              precision    recall  f1-score   support\n",
      "\n",
      "         0.0       0.99      0.72      0.83      2763\n",
      "         1.0       0.04      0.73      0.08        49\n",
      "\n",
      "    accuracy                           0.72      2812\n",
      "   macro avg       0.52      0.73      0.46      2812\n",
      "weighted avg       0.98      0.72      0.82      2812\n",
      "\n",
      "0.7258340904222709\n"
     ]
    }
   ],
   "source": [
    "best_dt = grid_dt(X_train, y_train)\n",
    "best_dt.fit(X_train, y_train)\n",
    "preds_dt2 = best_dt.predict(X_test)\n",
    "print(classification_report(y_test, preds_dt2))\n",
    "\n",
    "#roc\n",
    "fpr, tpr, thresholds = roc_curve(y_test, preds_dt2)\n",
    "roc_auc = auc(fpr, tpr)\n",
    "print(roc_auc)"
   ]
  },
  {
   "cell_type": "markdown",
   "metadata": {
    "id": "k8Kvz3ofiYBG"
   },
   "source": [
    "###RandomForest"
   ]
  },
  {
   "cell_type": "code",
   "execution_count": 24,
   "metadata": {
    "colab": {
     "base_uri": "https://localhost:8080/"
    },
    "id": "xGC0T61miTbi",
    "outputId": "daf3352a-20ae-47d2-e698-29a3fa721c41"
   },
   "outputs": [
    {
     "name": "stdout",
     "output_type": "stream",
     "text": [
      "              precision    recall  f1-score   support\n",
      "\n",
      "         0.0       1.00      0.74      0.85      2763\n",
      "         1.0       0.06      1.00      0.12        49\n",
      "\n",
      "    accuracy                           0.74      2812\n",
      "   macro avg       0.53      0.87      0.49      2812\n",
      "weighted avg       0.98      0.74      0.84      2812\n",
      "\n",
      "0.8700687658342381\n"
     ]
    }
   ],
   "source": [
    "model_rf = RandomForestClassifier(random_state = 42)\n",
    "model_rf.fit(X_train, y_train)\n",
    "preds_rf = model_rf.predict(X_test)\n",
    "print(classification_report(y_test, preds_rf))\n",
    "\n",
    "#roc\n",
    "fpr, tpr, thresholds = roc_curve(y_test, preds_rf)\n",
    "roc_auc = auc(fpr, tpr)\n",
    "print(roc_auc)"
   ]
  },
  {
   "cell_type": "markdown",
   "metadata": {
    "id": "Oy_NNCx5jDId"
   },
   "source": [
    "####optimizar random forest"
   ]
  },
  {
   "cell_type": "code",
   "execution_count": 25,
   "metadata": {
    "id": "sddVJj1wjF9z"
   },
   "outputs": [],
   "source": [
    "def grid_RandomForest(X_train, y_train):\n",
    "  model = RandomForestClassifier(random_state=0)\n",
    "  n_estimators = [100,500]\n",
    "  criterion = ['gini', 'entropy', 'log_loss']\n",
    "  min_samples_split = [0.05, 0.1,]\n",
    "  max_depth = [2,3,4]\n",
    "  grid = dict(n_estimators = n_estimators, criterion = criterion,\n",
    "              min_samples_split = min_samples_split, max_depth = max_depth)\n",
    "  cv = RepeatedStratifiedKFold(n_splits=5, n_repeats=1, random_state=1)\n",
    "  grid_search = GridSearchCV(estimator=model, param_grid=grid, n_jobs=-1, cv=cv,\n",
    "                            scoring='recall',error_score='raise')\n",
    "  grid_result = grid_search.fit(X_train, y_train)\n",
    "  return  grid_result.best_estimator_"
   ]
  },
  {
   "cell_type": "code",
   "execution_count": 26,
   "metadata": {
    "colab": {
     "base_uri": "https://localhost:8080/"
    },
    "id": "UmKOYdI9jKTa",
    "outputId": "004ae5d6-97c7-4a7c-8741-223c124fe9ea"
   },
   "outputs": [
    {
     "name": "stderr",
     "output_type": "stream",
     "text": [
      "/usr/local/lib/python3.10/dist-packages/numpy/ma/core.py:2820: RuntimeWarning: invalid value encountered in cast\n",
      "  _data = np.array(data, dtype=dtype, copy=copy,\n"
     ]
    },
    {
     "name": "stdout",
     "output_type": "stream",
     "text": [
      "              precision    recall  f1-score   support\n",
      "\n",
      "         0.0       0.99      0.72      0.84      2763\n",
      "         1.0       0.05      0.78      0.09        49\n",
      "\n",
      "    accuracy                           0.72      2812\n",
      "   macro avg       0.52      0.75      0.46      2812\n",
      "weighted avg       0.98      0.72      0.82      2812\n",
      "\n",
      "0.7489566945127671\n"
     ]
    }
   ],
   "source": [
    "best_rf = grid_RandomForest(X_train,y_train)\n",
    "best_rf.fit(X_train, y_train)\n",
    "preds_rf2 = best_rf.predict(X_test)\n",
    "print(classification_report(y_test, preds_rf2))\n",
    "\n",
    "#roc\n",
    "fpr, tpr, thresholds = roc_curve(y_test, preds_rf2)\n",
    "roc_auc = auc(fpr, tpr)\n",
    "print(roc_auc)"
   ]
  },
  {
   "cell_type": "markdown",
   "metadata": {
    "id": "4RXyD7eojd3J"
   },
   "source": [
    "###Boosting"
   ]
  },
  {
   "cell_type": "markdown",
   "metadata": {
    "id": "fGoAqgnfjklJ"
   },
   "source": [
    "####Xgboost"
   ]
  },
  {
   "cell_type": "code",
   "execution_count": 27,
   "metadata": {
    "colab": {
     "base_uri": "https://localhost:8080/"
    },
    "id": "YySijL7ujdb-",
    "outputId": "87b5f989-bda6-4e55-f79a-5bc5cc2a6675"
   },
   "outputs": [
    {
     "name": "stdout",
     "output_type": "stream",
     "text": [
      "              precision    recall  f1-score   support\n",
      "\n",
      "         0.0       1.00      0.70      0.82      2763\n",
      "         1.0       0.06      1.00      0.11        49\n",
      "\n",
      "    accuracy                           0.70      2812\n",
      "   macro avg       0.53      0.85      0.46      2812\n",
      "weighted avg       0.98      0.70      0.81      2812\n",
      "\n",
      "0.8496199782844733\n"
     ]
    }
   ],
   "source": [
    "#modelo\n",
    "model_xgb = XGBClassifier(random_state = 42)\n",
    "model_xgb.fit(X_train, y_train)\n",
    "preds_xgb = model_xgb.predict(X_test)\n",
    "print(classification_report(y_test, preds_xgb))\n",
    "\n",
    "#roc\n",
    "fpr, tpr, thresholds = roc_curve(y_test, preds_xgb)\n",
    "roc_auc = auc(fpr, tpr)\n",
    "print(roc_auc)"
   ]
  },
  {
   "cell_type": "markdown",
   "metadata": {
    "id": "aTF_1fKbkBqx"
   },
   "source": [
    "#####optimizar Xgboost"
   ]
  },
  {
   "cell_type": "code",
   "execution_count": 28,
   "metadata": {
    "id": "G8QWZkHIkFlR"
   },
   "outputs": [],
   "source": [
    "def grid_XGBoost(X_train, y_train):\n",
    "  model = XGBClassifier(random_state=0)\n",
    "  n_estimators = [100, 500]\n",
    "  learning_rate = [0.01, 0.1, 0.3]\n",
    "  max_depth = [3, 4, 5]\n",
    "  subsample = [0.8, 1.0]\n",
    "  colsample_bytree = [0.8, 1.0]\n",
    "  gamma = [0, 0.1, 0.2]\n",
    "\n",
    "  grid = dict(n_estimators=n_estimators, learning_rate=learning_rate,\n",
    "              max_depth=max_depth, subsample=subsample,\n",
    "              colsample_bytree=colsample_bytree, gamma=gamma)\n",
    "\n",
    "  cv = RepeatedStratifiedKFold(n_splits=5, n_repeats=1, random_state=1)\n",
    "  grid_search = GridSearchCV(estimator=model, param_grid=grid, n_jobs=-1, cv=cv,\n",
    "                            scoring='f1',error_score='raise')\n",
    "  grid_result = grid_search.fit(X_train, y_train)\n",
    "  print(grid_result.best_score_, grid_result.best_params_)\n",
    "  return  grid_result.best_estimator_"
   ]
  },
  {
   "cell_type": "code",
   "execution_count": 29,
   "metadata": {
    "colab": {
     "base_uri": "https://localhost:8080/"
    },
    "id": "nQpHgC3akIxK",
    "outputId": "5319fe93-4458-41fb-9a3c-312d10237324"
   },
   "outputs": [
    {
     "name": "stdout",
     "output_type": "stream",
     "text": [
      "0.7574913280801765 {'colsample_bytree': 0.8, 'gamma': 0, 'learning_rate': 0.01, 'max_depth': 3, 'n_estimators': 100, 'subsample': 1.0}\n",
      "              precision    recall  f1-score   support\n",
      "\n",
      "         0.0       0.99      0.71      0.83      2763\n",
      "         1.0       0.05      0.80      0.09        49\n",
      "\n",
      "    accuracy                           0.71      2812\n",
      "   macro avg       0.52      0.75      0.46      2812\n",
      "weighted avg       0.98      0.71      0.82      2812\n",
      "\n",
      "0.7544557453817574\n"
     ]
    }
   ],
   "source": [
    "best_xgb = grid_XGBoost(X_train,y_train)\n",
    "best_xgb.fit(X_train, y_train)\n",
    "preds_xgb2 = best_xgb.predict(X_test)\n",
    "print(classification_report(y_test, preds_xgb2))\n",
    "\n",
    "#roc\n",
    "fpr, tpr, thresholds = roc_curve(y_test, preds_xgb2)\n",
    "roc_auc = auc(fpr, tpr)\n",
    "print(roc_auc)"
   ]
  },
  {
   "cell_type": "markdown",
   "metadata": {
    "id": "bxePMhmTkW8a"
   },
   "source": [
    "####Adaboost"
   ]
  },
  {
   "cell_type": "code",
   "execution_count": 30,
   "metadata": {
    "colab": {
     "base_uri": "https://localhost:8080/"
    },
    "id": "jNVq1MwWk0yM",
    "outputId": "51843620-dee3-4796-bd1c-a4f6d2a2c606"
   },
   "outputs": [
    {
     "name": "stderr",
     "output_type": "stream",
     "text": [
      "/usr/local/lib/python3.10/dist-packages/sklearn/ensemble/_weight_boosting.py:527: FutureWarning: The SAMME.R algorithm (the default) is deprecated and will be removed in 1.6. Use the SAMME algorithm to circumvent this warning.\n",
      "  warnings.warn(\n"
     ]
    },
    {
     "name": "stdout",
     "output_type": "stream",
     "text": [
      "              precision    recall  f1-score   support\n",
      "\n",
      "         0.0       0.99      0.72      0.83      2763\n",
      "         1.0       0.05      0.80      0.09        49\n",
      "\n",
      "    accuracy                           0.72      2812\n",
      "   macro avg       0.52      0.76      0.46      2812\n",
      "weighted avg       0.98      0.72      0.82      2812\n",
      "\n",
      "0.7555415217118335\n"
     ]
    }
   ],
   "source": [
    "model_adab = AdaBoostClassifier(random_state=1)\n",
    "model_adab.fit(X_train, y_train)\n",
    "preds_adab = model_adab.predict(X_test)\n",
    "print(classification_report(y_test, preds_adab))\n",
    "\n",
    "#roc\n",
    "fpr, tpr, thresholds = roc_curve(y_test, preds_adab)\n",
    "roc_auc = auc(fpr, tpr)\n",
    "print(roc_auc)"
   ]
  },
  {
   "cell_type": "markdown",
   "metadata": {
    "id": "XTaHuDxuls7d"
   },
   "source": [
    "#####optimizar adaboost"
   ]
  },
  {
   "cell_type": "code",
   "execution_count": 31,
   "metadata": {
    "id": "BfCzMwuClzIr"
   },
   "outputs": [],
   "source": [
    "def grid_Adaboost(X_train, y_train):\n",
    "    model = AdaBoostClassifier(random_state=1)\n",
    "    n_estimators = [2, 15, 35, 50, 70, 100]\n",
    "    learning_rate = np.linspace(0.01, 1, 10)\n",
    "    grid = dict(n_estimators=n_estimators, learning_rate=learning_rate)\n",
    "    cv = RepeatedStratifiedKFold(n_splits=5, n_repeats=1, random_state=1)\n",
    "    grid_search = GridSearchCV(estimator=model, param_grid=grid, n_jobs=-1, cv=cv,\n",
    "                               scoring='f1', error_score='raise')\n",
    "    grid_result = grid_search.fit(X_train, y_train)\n",
    "    print(grid_result.best_score_, grid_result.best_params_)\n",
    "    return grid_result.best_estimator_"
   ]
  },
  {
   "cell_type": "code",
   "execution_count": 32,
   "metadata": {
    "colab": {
     "base_uri": "https://localhost:8080/"
    },
    "id": "_rREjoB9l-mH",
    "outputId": "572feec2-12de-42df-c776-293c1bb16fce"
   },
   "outputs": [
    {
     "name": "stdout",
     "output_type": "stream",
     "text": [
      "0.7581040002226687 {'learning_rate': 0.67, 'n_estimators': 15}\n",
      "              precision    recall  f1-score   support\n",
      "\n",
      "         0.0       1.00      0.73      0.84      2763\n",
      "         1.0       0.05      0.80      0.09        49\n",
      "\n",
      "    accuracy                           0.73      2812\n",
      "   macro avg       0.52      0.76      0.47      2812\n",
      "weighted avg       0.98      0.73      0.83      2812\n",
      "\n",
      "0.7607894406405341\n"
     ]
    },
    {
     "name": "stderr",
     "output_type": "stream",
     "text": [
      "/usr/local/lib/python3.10/dist-packages/sklearn/ensemble/_weight_boosting.py:527: FutureWarning: The SAMME.R algorithm (the default) is deprecated and will be removed in 1.6. Use the SAMME algorithm to circumvent this warning.\n",
      "  warnings.warn(\n",
      "/usr/local/lib/python3.10/dist-packages/sklearn/ensemble/_weight_boosting.py:527: FutureWarning: The SAMME.R algorithm (the default) is deprecated and will be removed in 1.6. Use the SAMME algorithm to circumvent this warning.\n",
      "  warnings.warn(\n"
     ]
    }
   ],
   "source": [
    "best_adab = grid_Adaboost(X_train,y_train)\n",
    "best_adab.fit(X_train, y_train)\n",
    "preds_adab2 = best_adab.predict(X_test)\n",
    "print(classification_report(y_test, preds_adab2))\n",
    "\n",
    "#roc\n",
    "fpr, tpr, thresholds = roc_curve(y_test, preds_adab2)\n",
    "roc_auc = auc(fpr, tpr)\n",
    "print(roc_auc)"
   ]
  },
  {
   "cell_type": "markdown",
   "metadata": {
    "id": "xSEmTffSnS80"
   },
   "source": [
    "###Resultados"
   ]
  },
  {
   "cell_type": "markdown",
   "metadata": {},
   "source": [
    "| Model              | Accuracy  | Recall | F1-Score | ROC-AUC |\n",
    "|---------------------|-----------|--------|----------|---------|\n",
    "| Logistic Regression |     72%   |   71%  |    46%   | 70.61%  |\n",
    "| Log. Reg. otpimized |     71%   |   70%  |    45%   | 70.61%  |\n",
    "| KNN                 |     68%   |   78%  |    45%   | 77.86%  |\n",
    "| KNN optimized       |     68%   |   84%  |    45%   | 83.51%  |\n",
    "| Decision Tree       |     66%   |   83%  |    44%   | 82.79%  |\n",
    "| DT optimized        |     72%   |   73%  |    46%   | 72.58%  |\n",
    "| Random Forest       |     74%   |   87%  |    49%   | 87.01%  |\n",
    "| Rf optimized        |     72%   |   75%  |    46%   | 74.89%  |\n",
    "| XGBoost             |     70%   |   85%  |    46%   | 84.96%  |\n",
    "| XGBoost optimized   |     71%   |   75%  |    46%   | 75.44%  |\n",
    "| AdaBoost            |     72%   |   76%  |    46%   | 75.55%  |\n",
    "| AdaBoost optimized  |     73%   |   76%  |    47%   | 76.07%  |\n"
   ]
  }
 ],
 "metadata": {
  "colab": {
   "authorship_tag": "ABX9TyOvIg5V1/Bx3uCg3pW56miX",
   "collapsed_sections": [
    "mBgGIRhNNGho",
    "Yx09YKsNexkI",
    "-q90BEbgY7Pq",
    "01PXYxtgfz3t",
    "SFq1blvggY4W",
    "4RXyD7eojd3J",
    "u2jchiOdMsi7"
   ],
   "include_colab_link": true,
   "provenance": []
  },
  "kernelspec": {
   "display_name": "Python 3",
   "name": "python3"
  },
  "language_info": {
   "name": "python"
  }
 },
 "nbformat": 4,
 "nbformat_minor": 0
}
